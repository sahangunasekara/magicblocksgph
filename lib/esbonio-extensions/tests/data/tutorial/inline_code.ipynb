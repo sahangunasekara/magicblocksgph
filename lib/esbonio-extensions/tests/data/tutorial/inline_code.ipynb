{
 "cells": [
  {
   "cell_type": "markdown",
   "id": "",
   "metadata": {},
   "source": [
    "\n",
    "Here is some `inline code`\n"
   ]
  }
 ],
 "metadata": {},
 "nbformat": 4,
 "nbformat_minor": 4
}
