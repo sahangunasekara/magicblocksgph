{
 "cells": [
  {
   "cell_type": "markdown",
   "id": "",
   "metadata": {},
   "source": [
    "\n",
    "Check out the [documentation](https://docs.python.org/3.7/)\n"
   ]
  }
 ],
 "metadata": {},
 "nbformat": 4,
 "nbformat_minor": 4
}
